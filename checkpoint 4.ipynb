{
 "cells": [
  {
   "cell_type": "code",
   "execution_count": 26,
   "id": "a2d7a3df",
   "metadata": {},
   "outputs": [
    {
     "name": "stdout",
     "output_type": "stream",
     "text": [
      "enter three number only 12\n",
      "10\n",
      "40\n"
     ]
    },
    {
     "data": {
      "text/plain": [
       "40"
      ]
     },
     "execution_count": 26,
     "metadata": {},
     "output_type": "execute_result"
    }
   ],
   "source": [
    "#exo1\n",
    "def function1():\n",
    "    x=int(input(\"enter three number only \"))\n",
    "    y=int(input())\n",
    "    l=int(input())\n",
    "    sum1=x-y\n",
    "    sum2=x-l\n",
    "    if sum1>0 and sum2>0:\n",
    "        return(x)\n",
    "    sum3=y-l\n",
    "    if sum3>0 and sum1<0:\n",
    "        return(y)\n",
    "    else:\n",
    "        return(l)\n",
    "function1()"
   ]
  },
  {
   "cell_type": "code",
   "execution_count": 2,
   "id": "d98c5bb4",
   "metadata": {},
   "outputs": [
    {
     "name": "stdout",
     "output_type": "stream",
     "text": [
      "20\n",
      "10\n"
     ]
    },
    {
     "data": {
      "text/plain": [
       "(30, 10)"
      ]
     },
     "execution_count": 2,
     "metadata": {},
     "output_type": "execute_result"
    }
   ],
   "source": [
    "def function2():\n",
    "    x=int(input())\n",
    "    y=int(input())\n",
    "    sum1=x+y\n",
    "    sub2=x-y  \n",
    "    return(sum1,sub2)\n",
    "function2()"
   ]
  },
  {
   "cell_type": "code",
   "execution_count": 33,
   "id": "4cf19aeb",
   "metadata": {},
   "outputs": [
    {
     "name": "stdout",
     "output_type": "stream",
     "text": [
      "1\n",
      "4\n",
      "9\n",
      "13\n"
     ]
    }
   ],
   "source": [
    "list1=(1,3,5,4)\n",
    "x=0\n",
    "for i in list1:\n",
    "    x=x+i\n",
    "    print(x)\n",
    "    "
   ]
  },
  {
   "cell_type": "code",
   "execution_count": 31,
   "id": "39085fdd",
   "metadata": {},
   "outputs": [
    {
     "name": "stdout",
     "output_type": "stream",
     "text": [
      "35\n"
     ]
    }
   ],
   "source": [
    "\n",
    "def max_number(x,y):\n",
    "    if x>y:\n",
    "\n",
    "        return x\n",
    "    return y\n",
    "def max_of_three( x, y, z ):\n",
    "    return max_number( x, max_number( y, z ) )\n",
    "print(max_of_three(20,35,19))"
   ]
  },
  {
   "cell_type": "code",
   "execution_count": 30,
   "id": "bf5226b5",
   "metadata": {},
   "outputs": [
    {
     "data": {
      "text/plain": [
       "24"
      ]
     },
     "execution_count": 30,
     "metadata": {},
     "output_type": "execute_result"
    }
   ],
   "source": [
    "max_number(12,24)"
   ]
  },
  {
   "cell_type": "code",
   "execution_count": 34,
   "id": "bdc43033",
   "metadata": {},
   "outputs": [],
   "source": [
    "#3rd exo in checkpoints\n",
    "#index\n",
    "#for in in range(len(list))\n",
    "#x.append(liste[i])  to add the number not its index\n",
    "#for i in list :\n",
    "# if(list.index(i)%2==0) \n",
    "#x.append(i)\n"
   ]
  },
  {
   "cell_type": "code",
   "execution_count": 39,
   "id": "34848202",
   "metadata": {},
   "outputs": [],
   "source": [
    "from math import sqrt\n",
    "def bonus(d):\n",
    "    q=sqrt((100*d)/30)\n",
    "    print(q)"
   ]
  },
  {
   "cell_type": "code",
   "execution_count": 41,
   "id": "2f3acd5c",
   "metadata": {},
   "outputs": [
    {
     "name": "stdout",
     "output_type": "stream",
     "text": [
      "18.257418583505537\n"
     ]
    }
   ],
   "source": [
    "bonus(100)"
   ]
  },
  {
   "cell_type": "code",
   "execution_count": 77,
   "id": "1e9718cf",
   "metadata": {},
   "outputs": [],
   "source": [
    "from math import sqrt\n",
    "def bonus1():\n",
    "    Q=[]\n",
    "    d=input(\"enter your comma-separated sequence \")\n",
    "    D=d.split(\",\")\n",
    "    for i in D:\n",
    "        q=round(sqrt((100*int(i))/30))\n",
    "        Q.append(q)\n",
    "    return Q\n",
    "    "
   ]
  },
  {
   "cell_type": "code",
   "execution_count": 76,
   "id": "09bdb342",
   "metadata": {},
   "outputs": [
    {
     "name": "stdout",
     "output_type": "stream",
     "text": [
      "enter your comma-separated sequence100\n"
     ]
    },
    {
     "data": {
      "text/plain": [
       "[18]"
      ]
     },
     "execution_count": 76,
     "metadata": {},
     "output_type": "execute_result"
    }
   ],
   "source": [
    "bonus1()"
   ]
  },
  {
   "cell_type": "code",
   "execution_count": null,
   "id": "f506d251",
   "metadata": {},
   "outputs": [],
   "source": []
  }
 ],
 "metadata": {
  "kernelspec": {
   "display_name": "Python 3 (ipykernel)",
   "language": "python",
   "name": "python3"
  },
  "language_info": {
   "codemirror_mode": {
    "name": "ipython",
    "version": 3
   },
   "file_extension": ".py",
   "mimetype": "text/x-python",
   "name": "python",
   "nbconvert_exporter": "python",
   "pygments_lexer": "ipython3",
   "version": "3.9.7"
  }
 },
 "nbformat": 4,
 "nbformat_minor": 5
}
